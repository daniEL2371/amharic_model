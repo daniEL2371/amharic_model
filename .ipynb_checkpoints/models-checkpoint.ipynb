{
 "cells": [
  {
   "cell_type": "code",
   "execution_count": 3,
   "metadata": {},
   "outputs": [
    {
     "name": "stderr",
     "output_type": "stream",
     "text": [
      "Using TensorFlow backend.\n"
     ]
    }
   ],
   "source": [
    "import numpy as np\n",
    "from keras.models import Sequential\n",
    "from keras.layers import Dense\n",
    "from keras.layers import Dropout, Flatten\n",
    "from keras.layers import LSTM, Conv2D, MaxPooling2D\n",
    "from keras.layers import GRU\n",
    "from keras.layers import Input\n",
    "from keras.models import Model\n",
    "from keras import optimizers\n",
    "from keras import initializers\n",
    "import keras\n",
    "import tensorflow as tf\n",
    "import glob\n",
    "import os"
   ]
  },
  {
   "cell_type": "code",
   "execution_count": 2,
   "metadata": {},
   "outputs": [],
   "source": [
    "def conv_model(n_vocab, vec_size):\n",
    "    data_input = Input(shape=(vec_size, 50, 1))\n",
    "    x = Conv2D(16, (3, 3), activation='relu')(data_input)\n",
    "    x = MaxPooling2D(pool_size=(3, 3))(x)\n",
    "#     x = Dropout(0.2)(x)\n",
    "    x = Conv2D(8, (3, 3), activation='relu')(x)\n",
    "    x = MaxPooling2D(pool_size=(3, 3))(x)\n",
    "    x = Flatten()(x)\n",
    "    out = Dense(200, activation=\"linear\")(x)\n",
    "    y = Dense(n_vocab, activation=\"softmax\")(out)\n",
    "    \n",
    "    main_model = Model(data_input, y)\n",
    "    aux_model = Model(data_input, out)\n",
    "    adam = keras.optimizers.SGD(1.0)\n",
    "    main_model.compile(loss='categorical_crossentropy', optimizer=adam, metrics=['accuracy'])\n",
    "    return main_model, aux_model\n",
    "    "
   ]
  },
  {
   "cell_type": "code",
   "execution_count": 3,
   "metadata": {},
   "outputs": [],
   "source": [
    "def conv_model3(n_vocab, vec_size):\n",
    "    data_input = Input(shape=(vec_size, 50, 1))\n",
    "    x = Conv2D(16, (3, 3), activation='relu')(data_input)\n",
    "    x = MaxPooling2D(pool_size=(2, 2))(x)\n",
    "#     x = Dropout(0.2)(x)\n",
    "    x = Conv2D(8, (3, 3), activation='relu')(x)\n",
    "    x = MaxPooling2D(pool_size=(2, 2))(x)\n",
    "    x = Flatten()(x)\n",
    "    x = Dense(600, activation=\"relu\")(x)\n",
    "    out = Dense(250, activation=\"linear\")(x)\n",
    "    y = Dense(n_vocab, activation=\"softmax\")(out)\n",
    "    \n",
    "    main_model = Model(data_input, y)\n",
    "    aux_model = Model(data_input, out)\n",
    "#     adam = keras.optimizers.Adam(lr=0.01)\n",
    "    main_model.compile(loss='categorical_crossentropy', optimizer='adam', metrics=['accuracy'])\n",
    "    return main_model, aux_model"
   ]
  },
  {
   "cell_type": "code",
   "execution_count": null,
   "metadata": {},
   "outputs": [],
   "source": [
    "def conv_model4(n_vocab, vec_size, window_size):\n",
    "    inputs = [Input(shape=(vec_size, 11, 1)) for i in range(window_size)]\n",
    "    data_input = Input(shape=(vec_size, 50, 1))\n",
    "    x = Conv2D(16, (3, 3), activation='relu')(data_input)\n",
    "    x = MaxPooling2D(pool_size=(2, 2))(x)\n",
    "#     x = Dropout(0.2)(x)\n",
    "    x = Conv2D(8, (3, 3), activation='relu')(x)\n",
    "    x = MaxPooling2D(pool_size=(2, 2))(x)\n",
    "    x = Flatten()(x)\n",
    "    x = Dense(600, activation=\"relu\")(x)\n",
    "    out = Dense(250, activation=\"linear\")(x)\n",
    "    y = Dense(n_vocab, activation=\"softmax\")(out)\n",
    "    \n",
    "    main_model = Model(data_input, y)\n",
    "    aux_model = Model(data_input, out)\n",
    "#     adam = keras.optimizers.Adam(lr=0.01)\n",
    "    main_model.compile(loss='categorical_crossentropy', optimizer='adam', metrics=['accuracy'])\n",
    "    return main_model, aux_model"
   ]
  },
  {
   "cell_type": "code",
   "execution_count": 4,
   "metadata": {
    "scrolled": true
   },
   "outputs": [],
   "source": [
    "# model = conv_model3(38445, 44)\n",
    "# model[0].summary()"
   ]
  },
  {
   "cell_type": "code",
   "execution_count": 5,
   "metadata": {},
   "outputs": [],
   "source": [
    "def conv_model2(n_vocab, vec_size):\n",
    "    data_input = Input(shape=(vec_size, 50, 1))\n",
    "    x = Conv2D(16, (3, 3), activation='relu')(data_input)\n",
    "    x = MaxPooling2D(pool_size=(3, 3))(x)\n",
    "#     x = Dropout(0.2)(x)\n",
    "    x = Conv2D(8, (3, 3), activation='relu')(x)\n",
    "    x = MaxPooling2D(pool_size=(3, 3))(x)\n",
    "    x = Flatten()(x)\n",
    "    out = Dense(200, activation=\"linear\")(x)\n",
    "    y = Dense(n_vocab, activation=\"softmax\")(out)\n",
    "    \n",
    "    main_model = Model(data_input, y)\n",
    "    aux_model = Model(data_input, out)\n",
    "    adam = keras.optimizers.Adam(lr=0.0001)\n",
    "    main_model.compile(loss='categorical_crossentropy', optimizer='adam', metrics=['accuracy'])\n",
    "    return main_model, aux_model"
   ]
  },
  {
   "cell_type": "code",
   "execution_count": 7,
   "metadata": {},
   "outputs": [],
   "source": [
    "def morph_model(input_shape, output_shape, n_units):\n",
    "    inputs = Input(shape=input_shape)\n",
    "    x = GRU(n_units)(inputs)\n",
    "    x = Dense(output_shape, activation='softmax', name=\"train_output\")(x)\n",
    "    print(x.shape)"
   ]
  },
  {
   "cell_type": "code",
   "execution_count": 8,
   "metadata": {},
   "outputs": [
    {
     "ename": "AttributeError",
     "evalue": "'Dense' object has no attribute 'shape'",
     "output_type": "error",
     "traceback": [
      "\u001b[0;31m---------------------------------------------------------------------------\u001b[0m",
      "\u001b[0;31mAttributeError\u001b[0m                            Traceback (most recent call last)",
      "\u001b[0;32m<ipython-input-8-1a33e2495462>\u001b[0m in \u001b[0;36m<module>\u001b[0;34m()\u001b[0m\n\u001b[0;32m----> 1\u001b[0;31m \u001b[0mmorph_model\u001b[0m\u001b[0;34m(\u001b[0m\u001b[0;34m(\u001b[0m\u001b[0;36m11\u001b[0m\u001b[0;34m,\u001b[0m \u001b[0;36m304\u001b[0m\u001b[0;34m)\u001b[0m\u001b[0;34m,\u001b[0m \u001b[0;36m32\u001b[0m\u001b[0;34m,\u001b[0m \u001b[0;36m128\u001b[0m\u001b[0;34m)\u001b[0m\u001b[0;34m\u001b[0m\u001b[0m\n\u001b[0m",
      "\u001b[0;32m<ipython-input-7-b294c9a19c57>\u001b[0m in \u001b[0;36mmorph_model\u001b[0;34m(input_shape, output_shape, n_units)\u001b[0m\n\u001b[1;32m      3\u001b[0m     \u001b[0mx\u001b[0m \u001b[0;34m=\u001b[0m \u001b[0mGRU\u001b[0m\u001b[0;34m(\u001b[0m\u001b[0mn_units\u001b[0m\u001b[0;34m)\u001b[0m\u001b[0;34m(\u001b[0m\u001b[0minputs\u001b[0m\u001b[0;34m)\u001b[0m\u001b[0;34m\u001b[0m\u001b[0m\n\u001b[1;32m      4\u001b[0m     \u001b[0mx\u001b[0m \u001b[0;34m=\u001b[0m \u001b[0mDense\u001b[0m\u001b[0;34m(\u001b[0m\u001b[0moutput_shape\u001b[0m\u001b[0;34m,\u001b[0m \u001b[0mactivation\u001b[0m\u001b[0;34m=\u001b[0m\u001b[0;34m'softmax'\u001b[0m\u001b[0;34m,\u001b[0m \u001b[0mname\u001b[0m\u001b[0;34m=\u001b[0m\u001b[0;34m\"train_output\"\u001b[0m\u001b[0;34m)\u001b[0m\u001b[0;34m\u001b[0m\u001b[0m\n\u001b[0;32m----> 5\u001b[0;31m     \u001b[0mprint\u001b[0m\u001b[0;34m(\u001b[0m\u001b[0mx\u001b[0m\u001b[0;34m.\u001b[0m\u001b[0mshape\u001b[0m\u001b[0;34m)\u001b[0m\u001b[0;34m\u001b[0m\u001b[0m\n\u001b[0m",
      "\u001b[0;31mAttributeError\u001b[0m: 'Dense' object has no attribute 'shape'"
     ]
    }
   ],
   "source": [
    "morph_model((11, 304), 32, 128)"
   ]
  },
  {
   "cell_type": "code",
   "execution_count": null,
   "metadata": {},
   "outputs": [],
   "source": []
  }
 ],
 "metadata": {
  "kernelspec": {
   "display_name": "Python 3",
   "language": "python",
   "name": "python3"
  },
  "language_info": {
   "codemirror_mode": {
    "name": "ipython",
    "version": 3
   },
   "file_extension": ".py",
   "mimetype": "text/x-python",
   "name": "python",
   "nbconvert_exporter": "python",
   "pygments_lexer": "ipython3",
   "version": "3.6.5"
  }
 },
 "nbformat": 4,
 "nbformat_minor": 2
}
