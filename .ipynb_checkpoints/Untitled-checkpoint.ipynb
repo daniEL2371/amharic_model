{
 "cells": [
  {
   "cell_type": "code",
   "execution_count": 51,
   "metadata": {},
   "outputs": [],
   "source": [
    "%matplotlib notebook\n",
    "import matplotlib.pyplot as plt\n",
    "import numpy as np"
   ]
  },
  {
   "cell_type": "code",
   "execution_count": 52,
   "metadata": {},
   "outputs": [],
   "source": [
    "\n",
    "read = open('data/small.txt', encoding='utf-8').read()"
   ]
  },
  {
   "cell_type": "code",
   "execution_count": 84,
   "metadata": {},
   "outputs": [],
   "source": [
    "charset = open('data/charset.txt', encoding='utf-8').readlines()\n",
    "char2int = {}\n",
    "int2char = {}\n",
    "char2tup = {}\n",
    "tup2char = {}\n",
    "int2tup = {}\n",
    "tup2int = {}\n",
    "charset[-2] = charset[-2] + '\\n'\n",
    "j = 0\n",
    "for k in range(len(charset)):\n",
    "    row = charset[k][:-1].split(',')\n",
    "    for i in range(len(row)):\n",
    "        char2tup[row[i]] = (k, i)\n",
    "        int2char[j] = row[i]\n",
    "        char2int[row[i]] = j\n",
    "        tup = \"{0}-{1}\".format(k, i)\n",
    "        tup2char[tup] = row[i]\n",
    "        tup2int[tup] = j\n",
    "        int2tup[j] = (k, i)\n",
    "        j += 1\n",
    "n_vowels = 10\n",
    "n_consonants = len(charset)"
   ]
  },
  {
   "cell_type": "code",
   "execution_count": 85,
   "metadata": {},
   "outputs": [],
   "source": [
    "vprobs = {}\n",
    "for c in read:\n",
    "    k, v = char2tup[c]\n",
    "    if v not in vprobs:\n",
    "        vprobs[v] = 0\n",
    "    vprobs[v] += 1\n",
    "for v in vprobs:\n",
    "    vprobs[v] /= len(read)\n"
   ]
  },
  {
   "cell_type": "code",
   "execution_count": 86,
   "metadata": {
    "scrolled": true
   },
   "outputs": [],
   "source": [
    "x = list(sorted(vprobs.keys()))\n",
    "y = [vprobs[i] for i in x]\n",
    "# plt.plot(x, y)\n",
    "# plt.show()"
   ]
  },
  {
   "cell_type": "code",
   "execution_count": 87,
   "metadata": {},
   "outputs": [],
   "source": [
    "cprobs = {}\n",
    "for c in read:\n",
    "    k, v = char2tup[c]\n",
    "    if k not in cprobs:\n",
    "        cprobs[k] = 0\n",
    "    cprobs[k] += 1\n",
    "for k in cprobs:\n",
    "    cprobs[k] /= len(read)"
   ]
  },
  {
   "cell_type": "code",
   "execution_count": 88,
   "metadata": {},
   "outputs": [],
   "source": [
    "x = list(sorted(cprobs.keys()))\n",
    "y = [cprobs[i] for i in x]\n",
    "# plt.plot(x, y)\n",
    "# plt.show()"
   ]
  },
  {
   "cell_type": "code",
   "execution_count": 103,
   "metadata": {},
   "outputs": [],
   "source": [
    "mat = np.zeros((n_consonants, n_vowels))\n",
    "for key in char2tup:\n",
    "    c = char2tup[key][0]\n",
    "    v = char2tup[key][1]\n",
    "    c_v = '{0}-{1}'.format(c, v)\n",
    "    c_count = 0\n",
    "    v_count = 0\n",
    "    c_v_count = 0\n",
    "    total = len(read)\n",
    "\n",
    "    for i in range(len(read)):\n",
    "        if char2tup[read[i]][0] == c:\n",
    "            c_count += 1\n",
    "        if char2tup[read[i]][1] == v:\n",
    "            v_count += 1\n",
    "        if char2tup[read[i]] == (c, v):\n",
    "            c_v_count += 1\n",
    "\n",
    "    p_c = c_count/total\n",
    "    p_v = v_count/total\n",
    "    p_c_v = c_v_count/total\n",
    "    if c_count != 0:\n",
    "        p_vc = c_v_count/c_count\n",
    "        p_cv = p_vc * p_c / p_v\n",
    "        mat[c, v] = p_vc\n",
    "        break\n",
    "\n",
    "    "
   ]
  },
  {
   "cell_type": "code",
   "execution_count": null,
   "metadata": {},
   "outputs": [],
   "source": []
  }
 ],
 "metadata": {
  "kernelspec": {
   "display_name": "Python 3",
   "language": "python",
   "name": "python3"
  },
  "language_info": {
   "codemirror_mode": {
    "name": "ipython",
    "version": 3
   },
   "file_extension": ".py",
   "mimetype": "text/x-python",
   "name": "python",
   "nbconvert_exporter": "python",
   "pygments_lexer": "ipython3",
   "version": "3.6.5"
  }
 },
 "nbformat": 4,
 "nbformat_minor": 2
}
