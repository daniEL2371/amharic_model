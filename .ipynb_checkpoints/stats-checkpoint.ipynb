{
 "cells": [
  {
   "cell_type": "code",
   "execution_count": 20,
   "metadata": {},
   "outputs": [],
   "source": [
    "%matplotlib notebook\n",
    "import numpy as np \n",
    "import matplotlib.pyplot as plt \n",
    "import numpy as np"
   ]
  },
  {
   "cell_type": "code",
   "execution_count": 21,
   "metadata": {},
   "outputs": [],
   "source": [
    "\n",
    "am = open('data/news.txt', encoding='utf-8').read().split(' ')\n",
    "en = open('data/text8.txt').read().split(' ')\n"
   ]
  },
  {
   "cell_type": "code",
   "execution_count": 22,
   "metadata": {},
   "outputs": [],
   "source": [
    "def contains_digit(word):\n",
    "    for i in range(10):\n",
    "        if str(i) in word:\n",
    "            return True\n",
    "    return False\n",
    "\n",
    "def count(words):\n",
    "    counts = {}\n",
    "    vocab = {}\n",
    "    for word in words:\n",
    "        if not contains_digit(word):\n",
    "            if word not in counts:\n",
    "                counts[word] = 0\n",
    "                vocab[word] = len(vocab)\n",
    "            counts[word] += 1\n",
    "    return counts, vocab\n",
    "\n",
    "def count_counts(counts, n_words):\n",
    "    xs = []\n",
    "    ys = []\n",
    "    count_shares = {}\n",
    "    for key in counts.keys():\n",
    "        c = counts[key]\n",
    "        if c not in count_shares:\n",
    "            count_shares[c] = 0\n",
    "        count_shares[c] += 1\n",
    "    \n",
    "    sorted_counts = sorted(count_shares.keys())\n",
    "    for i in sorted_counts:\n",
    "        x = i\n",
    "        y = count_shares[i] / n_words\n",
    "        xs.append(x)\n",
    "        ys.append(y)\n",
    "    return np.array(xs), np.array(ys)\n",
    "\n"
   ]
  },
  {
   "cell_type": "code",
   "execution_count": null,
   "metadata": {},
   "outputs": [],
   "source": [
    "n_am_words = len(am)\n",
    "n_en_words = len(en)\n",
    "am_counts, am_vocab = count(am)\n",
    "en_counts, en_vocab = count(en)\n",
    "am_x, am_y = count_counts(am_counts, n_am_words)\n",
    "en_x, en_y = count_counts(en_counts, n_en_words)\n",
    "am_vocab_size = len(am_counts.keys())"
   ]
  },
  {
   "cell_type": "code",
   "execution_count": null,
   "metadata": {
    "scrolled": true
   },
   "outputs": [],
   "source": [
    "print(\"Amharic average frequency: \", (n_am_words/len(am_counts)))\n",
    "print(\"Text average frequency: \", (n_en_words/len(en_counts)))\n",
    "plt.plot(am_x[:10], am_y[:10]*100, label=\"amharic dataset\")\n",
    "plt.plot(en_x[:10], en_y[:10]*100, label=\"text8 dataset\")\n",
    "plt.xlabel(\"Frequency of words\")\n",
    "plt.ylabel(\"Percentage of counts\")\n",
    "plt.legend()\n",
    "plt.show()"
   ]
  },
  {
   "cell_type": "code",
   "execution_count": null,
   "metadata": {
    "scrolled": false
   },
   "outputs": [],
   "source": [
    "am_vocab_size\n",
    "print(am_y[:10].sum())\n",
    "print(en_y[:10].sum())"
   ]
  },
  {
   "cell_type": "code",
   "execution_count": null,
   "metadata": {},
   "outputs": [],
   "source": [
    "m = 0\n",
    "for word in am:\n",
    "    if len(word) == 12:\n",
    "        print(word)\n",
    "# k = 0\n",
    "# for word in am:\n",
    "#     if len(word) > 11:\n",
    "#         k += 1\n",
    "# print(k)\n",
    "    "
   ]
  },
  {
   "cell_type": "code",
   "execution_count": null,
   "metadata": {},
   "outputs": [],
   "source": [
    "# sample = np.random.choice(am_vocab_size, (120, 10), replace=False)\n",
    "# reverse_vocab = dict(zip(am_vocab.values(), am_vocab.keys()))\n",
    "# words = ''\n",
    "# for j in range(sample.shape[0]):\n",
    "#     row = sample[j]\n",
    "#     for i in row:\n",
    "#         words += reverse_vocab[i] + ' '\n",
    "#     words += '\\n\\n'\n",
    "#     if j % 6 == 0:\n",
    "#         name = 'wordset/words-{0}.txt'.format(j)\n",
    "#         open(name, 'w', encoding='utf-8').write(words)\n",
    "#         words = ' '"
   ]
  },
  {
   "cell_type": "code",
   "execution_count": null,
   "metadata": {},
   "outputs": [],
   "source": []
  }
 ],
 "metadata": {
  "kernelspec": {
   "display_name": "Python 3",
   "language": "python",
   "name": "python3"
  },
  "language_info": {
   "codemirror_mode": {
    "name": "ipython",
    "version": 3
   },
   "file_extension": ".py",
   "mimetype": "text/x-python",
   "name": "python",
   "nbconvert_exporter": "python",
   "pygments_lexer": "ipython3",
   "version": "3.6.5"
  }
 },
 "nbformat": 4,
 "nbformat_minor": 2
}
