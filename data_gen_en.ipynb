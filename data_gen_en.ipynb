{
 "cells": [
  {
   "cell_type": "code",
   "execution_count": 1,
   "metadata": {},
   "outputs": [],
   "source": [
    "import numpy as np"
   ]
  },
  {
   "cell_type": "code",
   "execution_count": 15,
   "metadata": {},
   "outputs": [],
   "source": [
    "class DataGen:\n",
    "    \n",
    "    def __init__(self, percent=100):\n",
    "        self.n_chars = 0\n",
    "        self.max_word_len = 34\n",
    "        self.corpus = open('data/text8.txt').read()\n",
    "        self.words = self.corpus.split(' ')\n",
    "        width = int(len(self.words) * percent/100)\n",
    "        self.words = self.words[:width]\n",
    "        self.char2int, self.int2char = self.load_charset()\n",
    "        self.vocab, self.word2int, self.int2word = self.get_vocab(self.words)\n",
    "        del self.corpus\n",
    "    \n",
    "    def get_vocab(self, words):\n",
    "        word2int = {}\n",
    "        int2word = {}\n",
    "        vocab = list(sorted(set(words)))\n",
    "        for word in vocab:\n",
    "            int2word[len(word2int)] = word\n",
    "            word2int[word] = len(word2int)\n",
    "            if len(word) > self.max_word_len:\n",
    "                self.max_word_len = len(word)\n",
    "#             if len(word) == 18:\n",
    "#                 print(word)\n",
    "                print(word, self.max_word_len)\n",
    "        return vocab, word2int, int2word\n",
    "    \n",
    "    def load_charset(self):\n",
    "        charset = list(sorted(set(self.corpus)))\n",
    "        self.n_chars = len(charset)\n",
    "        char2int, int2char = {}, {}\n",
    "        j = 0\n",
    "        for k in range(len(charset)):\n",
    "            char = charset[k]\n",
    "            int2char[k] = char\n",
    "            char2int[char] = k\n",
    "            \n",
    "        return char2int, int2char\n",
    "        \n",
    "    \n",
    "    def word2vec(self, word):\n",
    "        cons = np.zeros((self.max_word_len, self.n_consonant), dtype=np.float32)\n",
    "        vowel = np.zeros((self.max_word_len, self.n_vowel), dtype=np.float32)\n",
    "        for i in range(len(word)):\n",
    "            char = word[i]\n",
    "            t = self.char2tup[char]\n",
    "            cons[i][t[0]] = 1\n",
    "            vowel[i][t[1]] = 1\n",
    "        con, vow = self.char2tup['#']\n",
    "        cons[i+1:, con] = 1\n",
    "        vowel[i+1:, vow] = 1\n",
    "        vec = np.concatenate([cons, vowel], axis=1)\n",
    "#         np.random.shuffle(vec)\n",
    "        return vec\n",
    "    \n",
    "    def one_hot(self, n, size):\n",
    "        v = np.zeros((size,))\n",
    "        v[n] = 1\n",
    "        return v\n",
    "    \n",
    "    def one_hot_decode(self, vec):\n",
    "        indexes = np.argmax(vec, axis=1)\n",
    "        words = []\n",
    "        for i in indexes:\n",
    "            words.append(self.int2word[i])\n",
    "        return words\n",
    "            \n",
    "        \n",
    "    \n",
    "    def sentense_to_vec(self, words):\n",
    "        vecs = []\n",
    "        for w in words:\n",
    "            vecs.append(self.word2vec(w))\n",
    "        vec = np.concatenate(vecs)\n",
    "        return vec\n",
    "    \n",
    "\n",
    "    def gen(self, batch_size=100, n_batches=-1, windows_size=4):\n",
    "        batch = 0\n",
    "        n_words = len(self.words)\n",
    "        if n_batches > 0:\n",
    "            n_words = batch_size * n_batches\n",
    "        c_word = windows_size // 2\n",
    "        while True:\n",
    "            x = []\n",
    "            y = []\n",
    "            for i in range(batch_size):\n",
    "                j = c_word - windows_size // 2\n",
    "                k = c_word + windows_size // 2 + 1\n",
    "                context = self.words[j:k]\n",
    "                target = context.pop(windows_size//2)\n",
    "                vec = self.sentense_to_vec(context)\n",
    "                x.append(vec)\n",
    "                y.append(self.one_hot(self.word2int[target], len(self.vocab)))\n",
    "                c_word += 1\n",
    "            batch += 1\n",
    "            if c_word > n_words - windows_size // 2:\n",
    "                print(\"word \", c_word)\n",
    "                c_word = windows_size // 2\n",
    "            rand = np.random.choice(batch_size, size=batch_size, replace=False)\n",
    "            x = np.stack(x)\n",
    "            x = x.reshape((x.shape[0], x.shape[1], x.shape[2],1))\n",
    "            y = np.stack(y)\n",
    "#             y = y[rand]\n",
    "#             x = x[rand]\n",
    "            yield x, y\n",
    "            \n",
    "            \n",
    "                \n",
    "        \n",
    "        \n"
   ]
  },
  {
   "cell_type": "code",
   "execution_count": 16,
   "metadata": {},
   "outputs": [
    {
     "name": "stdout",
     "output_type": "stream",
     "text": [
      "a 1\n",
      "aa 2\n",
      "aaa 3\n",
      "aaaa 4\n",
      "aaaaaacceglllnorst 18\n",
      "aaupaukunukunumuhumuh 21\n",
      "abcdefghijklmnopqrstuvwxyz 26\n",
      "accusativeillumillamilludill 28\n",
      "antidisestablishmentarianistically 34\n",
      "bababadalgharaghtakamminarronnkonnbronntonnerronntuonnthunntrovarrhounawnskawntoohoohoordenenthurnuk 100\n"
     ]
    }
   ],
   "source": [
    "dg = DataGen()"
   ]
  },
  {
   "cell_type": "code",
   "execution_count": 7,
   "metadata": {},
   "outputs": [
    {
     "name": "stdout",
     "output_type": "stream",
     "text": [
      "100\n"
     ]
    },
    {
     "data": {
      "text/plain": [
       "{' ': 0,\n",
       " 'a': 1,\n",
       " 'b': 2,\n",
       " 'c': 3,\n",
       " 'd': 4,\n",
       " 'e': 5,\n",
       " 'f': 6,\n",
       " 'g': 7,\n",
       " 'h': 8,\n",
       " 'i': 9,\n",
       " 'j': 10,\n",
       " 'k': 11,\n",
       " 'l': 12,\n",
       " 'm': 13,\n",
       " 'n': 14,\n",
       " 'o': 15,\n",
       " 'p': 16,\n",
       " 'q': 17,\n",
       " 'r': 18,\n",
       " 's': 19,\n",
       " 't': 20,\n",
       " 'u': 21,\n",
       " 'v': 22,\n",
       " 'w': 23,\n",
       " 'x': 24,\n",
       " 'y': 25,\n",
       " 'z': 26}"
      ]
     },
     "execution_count": 7,
     "metadata": {},
     "output_type": "execute_result"
    }
   ],
   "source": [
    "print(dg.max_word_len)\n",
    "dg.char2int"
   ]
  },
  {
   "cell_type": "code",
   "execution_count": 5,
   "metadata": {},
   "outputs": [],
   "source": [
    "# dg.char2tup"
   ]
  },
  {
   "cell_type": "code",
   "execution_count": 6,
   "metadata": {},
   "outputs": [],
   "source": [
    "# gen = dg.gen(n_batches=40, batch_size=10)\n",
    "# for i in range(120):\n",
    "#     x, y = next(gen)"
   ]
  },
  {
   "cell_type": "code",
   "execution_count": null,
   "metadata": {},
   "outputs": [],
   "source": []
  }
 ],
 "metadata": {
  "kernelspec": {
   "display_name": "Python 3",
   "language": "python",
   "name": "python3"
  },
  "language_info": {
   "codemirror_mode": {
    "name": "ipython",
    "version": 3
   },
   "file_extension": ".py",
   "mimetype": "text/x-python",
   "name": "python",
   "nbconvert_exporter": "python",
   "pygments_lexer": "ipython3",
   "version": "3.6.5"
  }
 },
 "nbformat": 4,
 "nbformat_minor": 2
}
